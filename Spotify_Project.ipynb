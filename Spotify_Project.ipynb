{
  "nbformat": 4,
  "nbformat_minor": 0,
  "metadata": {
    "colab": {
      "provenance": []
    },
    "kernelspec": {
      "name": "python3",
      "display_name": "Python 3"
    },
    "language_info": {
      "name": "python"
    }
  },
  "cells": [
    {
      "cell_type": "code",
      "execution_count": null,
      "metadata": {
        "colab": {
          "base_uri": "https://localhost:8080/"
        },
        "id": "8PiY8WY-V9uY",
        "outputId": "65e0a602-4615-4443-c5fb-eb711008fd1b"
      },
      "outputs": [
        {
          "output_type": "stream",
          "name": "stdout",
          "text": [
            "Requirement already satisfied: spotipy in /usr/local/lib/python3.10/dist-packages (2.24.0)\n",
            "Requirement already satisfied: redis>=3.5.3 in /usr/local/lib/python3.10/dist-packages (from spotipy) (5.0.8)\n",
            "Requirement already satisfied: requests>=2.25.0 in /usr/local/lib/python3.10/dist-packages (from spotipy) (2.32.3)\n",
            "Requirement already satisfied: urllib3>=1.26.0 in /usr/local/lib/python3.10/dist-packages (from spotipy) (2.0.7)\n",
            "Requirement already satisfied: async-timeout>=4.0.3 in /usr/local/lib/python3.10/dist-packages (from redis>=3.5.3->spotipy) (4.0.3)\n",
            "Requirement already satisfied: charset-normalizer<4,>=2 in /usr/local/lib/python3.10/dist-packages (from requests>=2.25.0->spotipy) (3.3.2)\n",
            "Requirement already satisfied: idna<4,>=2.5 in /usr/local/lib/python3.10/dist-packages (from requests>=2.25.0->spotipy) (3.8)\n",
            "Requirement already satisfied: certifi>=2017.4.17 in /usr/local/lib/python3.10/dist-packages (from requests>=2.25.0->spotipy) (2024.8.30)\n"
          ]
        }
      ],
      "source": [
        "!pip install spotipy\n",
        "import pandas as pd"
      ]
    },
    {
      "cell_type": "code",
      "source": [
        "import spotipy\n",
        "from spotipy.oauth2 import SpotifyClientCredentials"
      ],
      "metadata": {
        "id": "IB7SCTWIWAw3"
      },
      "execution_count": null,
      "outputs": []
    },
    {
      "cell_type": "code",
      "source": [
        "client_credentials_manager=SpotifyClientCredentials(client_id='d3d4001878f9432e9458dc759921f964', client_secret='03b8a3e2424a4848bd9033047fc64b27')"
      ],
      "metadata": {
        "id": "JjkW4iOYWszc"
      },
      "execution_count": null,
      "outputs": []
    },
    {
      "cell_type": "code",
      "source": [
        "sp = spotipy.Spotify(client_credentials_manager=client_credentials_manager)"
      ],
      "metadata": {
        "id": "n9CyDDoJXFPz"
      },
      "execution_count": null,
      "outputs": []
    },
    {
      "cell_type": "code",
      "source": [
        "playlist_link='https://open.spotify.com/playlist/37i9dQZEVXbNG2KDcFcKOF'"
      ],
      "metadata": {
        "id": "9GQjrUq3XU3K"
      },
      "execution_count": null,
      "outputs": []
    },
    {
      "cell_type": "code",
      "source": [
        "playlist_uri=playlist_link.split('/')[-1].split('?')[0]"
      ],
      "metadata": {
        "id": "YZ8aFmbxX0vc"
      },
      "execution_count": null,
      "outputs": []
    },
    {
      "cell_type": "code",
      "source": [
        "data=sp.playlist_tracks(playlist_uri)"
      ],
      "metadata": {
        "id": "u3FuRCdDX47C"
      },
      "execution_count": null,
      "outputs": []
    },
    {
      "cell_type": "code",
      "source": [
        "data.keys()"
      ],
      "metadata": {
        "colab": {
          "base_uri": "https://localhost:8080/"
        },
        "id": "sKy-M43tWEQo",
        "outputId": "dec82941-440a-469a-c20c-669d30904aa8"
      },
      "execution_count": null,
      "outputs": [
        {
          "output_type": "execute_result",
          "data": {
            "text/plain": [
              "dict_keys(['href', 'items', 'limit', 'next', 'offset', 'previous', 'total'])"
            ]
          },
          "metadata": {},
          "execution_count": 78
        }
      ]
    },
    {
      "cell_type": "code",
      "source": [
        "data['items'][0]['track']['album']['id']"
      ],
      "metadata": {
        "colab": {
          "base_uri": "https://localhost:8080/",
          "height": 35
        },
        "id": "C1uIIQ5HYP_Q",
        "outputId": "baa2fe08-3ae0-41dd-d634-afc2c2a373c9"
      },
      "execution_count": null,
      "outputs": [
        {
          "output_type": "execute_result",
          "data": {
            "text/plain": [
              "'10FLjwfpbxLmW8c25Xyc2N'"
            ],
            "application/vnd.google.colaboratory.intrinsic+json": {
              "type": "string"
            }
          },
          "metadata": {},
          "execution_count": 24
        }
      ]
    },
    {
      "cell_type": "code",
      "source": [
        "data['items'][0]['track']['album']['name']"
      ],
      "metadata": {
        "colab": {
          "base_uri": "https://localhost:8080/",
          "height": 35
        },
        "id": "zXz_ClQGj2RH",
        "outputId": "5cbd56bf-4688-4ab2-a336-772c53feb6fb"
      },
      "execution_count": null,
      "outputs": [
        {
          "output_type": "execute_result",
          "data": {
            "text/plain": [
              "'Die With A Smile'"
            ],
            "application/vnd.google.colaboratory.intrinsic+json": {
              "type": "string"
            }
          },
          "metadata": {},
          "execution_count": 25
        }
      ]
    },
    {
      "cell_type": "code",
      "source": [
        "data['items'][0]['track']['album']['release_date']"
      ],
      "metadata": {
        "colab": {
          "base_uri": "https://localhost:8080/",
          "height": 35
        },
        "id": "sDKPeWvbk-ub",
        "outputId": "ddd61ea5-ac60-4d79-9b39-ab77e9a72d6a"
      },
      "execution_count": null,
      "outputs": [
        {
          "output_type": "execute_result",
          "data": {
            "text/plain": [
              "'2024-08-16'"
            ],
            "application/vnd.google.colaboratory.intrinsic+json": {
              "type": "string"
            }
          },
          "metadata": {},
          "execution_count": 26
        }
      ]
    },
    {
      "cell_type": "code",
      "source": [
        "data['items'][0]['track']['album']['total_tracks']"
      ],
      "metadata": {
        "colab": {
          "base_uri": "https://localhost:8080/"
        },
        "id": "-MdtV0TqlFvm",
        "outputId": "b3600a01-0de2-476f-a878-75b1a728eb5a"
      },
      "execution_count": null,
      "outputs": [
        {
          "output_type": "execute_result",
          "data": {
            "text/plain": [
              "1"
            ]
          },
          "metadata": {},
          "execution_count": 27
        }
      ]
    },
    {
      "cell_type": "code",
      "source": [
        "data['items'][0]['track']['album']['external_urls']['spotify']"
      ],
      "metadata": {
        "colab": {
          "base_uri": "https://localhost:8080/",
          "height": 35
        },
        "id": "XvTJPo4clIup",
        "outputId": "d525feee-49af-4523-cf53-4ab0ecd2e8fb"
      },
      "execution_count": null,
      "outputs": [
        {
          "output_type": "execute_result",
          "data": {
            "text/plain": [
              "'https://open.spotify.com/album/10FLjwfpbxLmW8c25Xyc2N'"
            ],
            "application/vnd.google.colaboratory.intrinsic+json": {
              "type": "string"
            }
          },
          "metadata": {},
          "execution_count": 29
        }
      ]
    },
    {
      "cell_type": "code",
      "source": [
        "album_list=[]\n",
        "for row in data['items']:\n",
        "  id = row['track']['album']['id']\n",
        "  name = row['track']['album']['name']\n",
        "  release_date=row['track']['album']['release_date']\n",
        "  total_tracks=row['track']['album']['total_tracks']\n",
        "  uri=row['track']['album']['external_urls']['spotify']\n",
        "  album_elements={'id': id, 'name': name, 'release_date':release_date, 'total_tracks':total_tracks, 'uri':uri}\n",
        "  album_list.append(album_elements)\n"
      ],
      "metadata": {
        "id": "QUmJeBcjlOvj"
      },
      "execution_count": null,
      "outputs": []
    },
    {
      "cell_type": "code",
      "source": [
        "album_df=pd.DataFrame.from_dict(album_list)"
      ],
      "metadata": {
        "id": "850g1Pdx9NZn"
      },
      "execution_count": null,
      "outputs": []
    },
    {
      "cell_type": "code",
      "source": [
        "album_df.head()"
      ],
      "metadata": {
        "colab": {
          "base_uri": "https://localhost:8080/",
          "height": 206
        },
        "id": "lNZHwiKnBuLh",
        "outputId": "9269a1c6-bf4a-4636-ad07-755d353dd3a6"
      },
      "execution_count": null,
      "outputs": [
        {
          "output_type": "execute_result",
          "data": {
            "text/plain": [
              "                       id                  name release_date  total_tracks  \\\n",
              "0  10FLjwfpbxLmW8c25Xyc2N      Die With A Smile   2024-08-16             1   \n",
              "1  7aJuG4TFXa2hmE4z1yxc3n  HIT ME HARD AND SOFT   2024-05-17            10   \n",
              "2  3iPSVi54hsacKKl1xIR2eH        Short n' Sweet   2024-08-23            12   \n",
              "3  15XcLhiVMlSOipUddTNDnr                  MUSE   2024-07-19             7   \n",
              "4  5quMTd5zeI9yW5UDua8wS4              Espresso   2024-04-12             1   \n",
              "\n",
              "                                                 uri  \n",
              "0  https://open.spotify.com/album/10FLjwfpbxLmW8c...  \n",
              "1  https://open.spotify.com/album/7aJuG4TFXa2hmE4...  \n",
              "2  https://open.spotify.com/album/3iPSVi54hsacKKl...  \n",
              "3  https://open.spotify.com/album/15XcLhiVMlSOipU...  \n",
              "4  https://open.spotify.com/album/5quMTd5zeI9yW5U...  "
            ],
            "text/html": [
              "\n",
              "  <div id=\"df-08a4b187-271c-4e4f-94d5-bd82f1a0fb62\" class=\"colab-df-container\">\n",
              "    <div>\n",
              "<style scoped>\n",
              "    .dataframe tbody tr th:only-of-type {\n",
              "        vertical-align: middle;\n",
              "    }\n",
              "\n",
              "    .dataframe tbody tr th {\n",
              "        vertical-align: top;\n",
              "    }\n",
              "\n",
              "    .dataframe thead th {\n",
              "        text-align: right;\n",
              "    }\n",
              "</style>\n",
              "<table border=\"1\" class=\"dataframe\">\n",
              "  <thead>\n",
              "    <tr style=\"text-align: right;\">\n",
              "      <th></th>\n",
              "      <th>id</th>\n",
              "      <th>name</th>\n",
              "      <th>release_date</th>\n",
              "      <th>total_tracks</th>\n",
              "      <th>uri</th>\n",
              "    </tr>\n",
              "  </thead>\n",
              "  <tbody>\n",
              "    <tr>\n",
              "      <th>0</th>\n",
              "      <td>10FLjwfpbxLmW8c25Xyc2N</td>\n",
              "      <td>Die With A Smile</td>\n",
              "      <td>2024-08-16</td>\n",
              "      <td>1</td>\n",
              "      <td>https://open.spotify.com/album/10FLjwfpbxLmW8c...</td>\n",
              "    </tr>\n",
              "    <tr>\n",
              "      <th>1</th>\n",
              "      <td>7aJuG4TFXa2hmE4z1yxc3n</td>\n",
              "      <td>HIT ME HARD AND SOFT</td>\n",
              "      <td>2024-05-17</td>\n",
              "      <td>10</td>\n",
              "      <td>https://open.spotify.com/album/7aJuG4TFXa2hmE4...</td>\n",
              "    </tr>\n",
              "    <tr>\n",
              "      <th>2</th>\n",
              "      <td>3iPSVi54hsacKKl1xIR2eH</td>\n",
              "      <td>Short n' Sweet</td>\n",
              "      <td>2024-08-23</td>\n",
              "      <td>12</td>\n",
              "      <td>https://open.spotify.com/album/3iPSVi54hsacKKl...</td>\n",
              "    </tr>\n",
              "    <tr>\n",
              "      <th>3</th>\n",
              "      <td>15XcLhiVMlSOipUddTNDnr</td>\n",
              "      <td>MUSE</td>\n",
              "      <td>2024-07-19</td>\n",
              "      <td>7</td>\n",
              "      <td>https://open.spotify.com/album/15XcLhiVMlSOipU...</td>\n",
              "    </tr>\n",
              "    <tr>\n",
              "      <th>4</th>\n",
              "      <td>5quMTd5zeI9yW5UDua8wS4</td>\n",
              "      <td>Espresso</td>\n",
              "      <td>2024-04-12</td>\n",
              "      <td>1</td>\n",
              "      <td>https://open.spotify.com/album/5quMTd5zeI9yW5U...</td>\n",
              "    </tr>\n",
              "  </tbody>\n",
              "</table>\n",
              "</div>\n",
              "    <div class=\"colab-df-buttons\">\n",
              "\n",
              "  <div class=\"colab-df-container\">\n",
              "    <button class=\"colab-df-convert\" onclick=\"convertToInteractive('df-08a4b187-271c-4e4f-94d5-bd82f1a0fb62')\"\n",
              "            title=\"Convert this dataframe to an interactive table.\"\n",
              "            style=\"display:none;\">\n",
              "\n",
              "  <svg xmlns=\"http://www.w3.org/2000/svg\" height=\"24px\" viewBox=\"0 -960 960 960\">\n",
              "    <path d=\"M120-120v-720h720v720H120Zm60-500h600v-160H180v160Zm220 220h160v-160H400v160Zm0 220h160v-160H400v160ZM180-400h160v-160H180v160Zm440 0h160v-160H620v160ZM180-180h160v-160H180v160Zm440 0h160v-160H620v160Z\"/>\n",
              "  </svg>\n",
              "    </button>\n",
              "\n",
              "  <style>\n",
              "    .colab-df-container {\n",
              "      display:flex;\n",
              "      gap: 12px;\n",
              "    }\n",
              "\n",
              "    .colab-df-convert {\n",
              "      background-color: #E8F0FE;\n",
              "      border: none;\n",
              "      border-radius: 50%;\n",
              "      cursor: pointer;\n",
              "      display: none;\n",
              "      fill: #1967D2;\n",
              "      height: 32px;\n",
              "      padding: 0 0 0 0;\n",
              "      width: 32px;\n",
              "    }\n",
              "\n",
              "    .colab-df-convert:hover {\n",
              "      background-color: #E2EBFA;\n",
              "      box-shadow: 0px 1px 2px rgba(60, 64, 67, 0.3), 0px 1px 3px 1px rgba(60, 64, 67, 0.15);\n",
              "      fill: #174EA6;\n",
              "    }\n",
              "\n",
              "    .colab-df-buttons div {\n",
              "      margin-bottom: 4px;\n",
              "    }\n",
              "\n",
              "    [theme=dark] .colab-df-convert {\n",
              "      background-color: #3B4455;\n",
              "      fill: #D2E3FC;\n",
              "    }\n",
              "\n",
              "    [theme=dark] .colab-df-convert:hover {\n",
              "      background-color: #434B5C;\n",
              "      box-shadow: 0px 1px 3px 1px rgba(0, 0, 0, 0.15);\n",
              "      filter: drop-shadow(0px 1px 2px rgba(0, 0, 0, 0.3));\n",
              "      fill: #FFFFFF;\n",
              "    }\n",
              "  </style>\n",
              "\n",
              "    <script>\n",
              "      const buttonEl =\n",
              "        document.querySelector('#df-08a4b187-271c-4e4f-94d5-bd82f1a0fb62 button.colab-df-convert');\n",
              "      buttonEl.style.display =\n",
              "        google.colab.kernel.accessAllowed ? 'block' : 'none';\n",
              "\n",
              "      async function convertToInteractive(key) {\n",
              "        const element = document.querySelector('#df-08a4b187-271c-4e4f-94d5-bd82f1a0fb62');\n",
              "        const dataTable =\n",
              "          await google.colab.kernel.invokeFunction('convertToInteractive',\n",
              "                                                    [key], {});\n",
              "        if (!dataTable) return;\n",
              "\n",
              "        const docLinkHtml = 'Like what you see? Visit the ' +\n",
              "          '<a target=\"_blank\" href=https://colab.research.google.com/notebooks/data_table.ipynb>data table notebook</a>'\n",
              "          + ' to learn more about interactive tables.';\n",
              "        element.innerHTML = '';\n",
              "        dataTable['output_type'] = 'display_data';\n",
              "        await google.colab.output.renderOutput(dataTable, element);\n",
              "        const docLink = document.createElement('div');\n",
              "        docLink.innerHTML = docLinkHtml;\n",
              "        element.appendChild(docLink);\n",
              "      }\n",
              "    </script>\n",
              "  </div>\n",
              "\n",
              "\n",
              "<div id=\"df-a0986954-afca-4ad3-b214-8f581a9d6ce3\">\n",
              "  <button class=\"colab-df-quickchart\" onclick=\"quickchart('df-a0986954-afca-4ad3-b214-8f581a9d6ce3')\"\n",
              "            title=\"Suggest charts\"\n",
              "            style=\"display:none;\">\n",
              "\n",
              "<svg xmlns=\"http://www.w3.org/2000/svg\" height=\"24px\"viewBox=\"0 0 24 24\"\n",
              "     width=\"24px\">\n",
              "    <g>\n",
              "        <path d=\"M19 3H5c-1.1 0-2 .9-2 2v14c0 1.1.9 2 2 2h14c1.1 0 2-.9 2-2V5c0-1.1-.9-2-2-2zM9 17H7v-7h2v7zm4 0h-2V7h2v10zm4 0h-2v-4h2v4z\"/>\n",
              "    </g>\n",
              "</svg>\n",
              "  </button>\n",
              "\n",
              "<style>\n",
              "  .colab-df-quickchart {\n",
              "      --bg-color: #E8F0FE;\n",
              "      --fill-color: #1967D2;\n",
              "      --hover-bg-color: #E2EBFA;\n",
              "      --hover-fill-color: #174EA6;\n",
              "      --disabled-fill-color: #AAA;\n",
              "      --disabled-bg-color: #DDD;\n",
              "  }\n",
              "\n",
              "  [theme=dark] .colab-df-quickchart {\n",
              "      --bg-color: #3B4455;\n",
              "      --fill-color: #D2E3FC;\n",
              "      --hover-bg-color: #434B5C;\n",
              "      --hover-fill-color: #FFFFFF;\n",
              "      --disabled-bg-color: #3B4455;\n",
              "      --disabled-fill-color: #666;\n",
              "  }\n",
              "\n",
              "  .colab-df-quickchart {\n",
              "    background-color: var(--bg-color);\n",
              "    border: none;\n",
              "    border-radius: 50%;\n",
              "    cursor: pointer;\n",
              "    display: none;\n",
              "    fill: var(--fill-color);\n",
              "    height: 32px;\n",
              "    padding: 0;\n",
              "    width: 32px;\n",
              "  }\n",
              "\n",
              "  .colab-df-quickchart:hover {\n",
              "    background-color: var(--hover-bg-color);\n",
              "    box-shadow: 0 1px 2px rgba(60, 64, 67, 0.3), 0 1px 3px 1px rgba(60, 64, 67, 0.15);\n",
              "    fill: var(--button-hover-fill-color);\n",
              "  }\n",
              "\n",
              "  .colab-df-quickchart-complete:disabled,\n",
              "  .colab-df-quickchart-complete:disabled:hover {\n",
              "    background-color: var(--disabled-bg-color);\n",
              "    fill: var(--disabled-fill-color);\n",
              "    box-shadow: none;\n",
              "  }\n",
              "\n",
              "  .colab-df-spinner {\n",
              "    border: 2px solid var(--fill-color);\n",
              "    border-color: transparent;\n",
              "    border-bottom-color: var(--fill-color);\n",
              "    animation:\n",
              "      spin 1s steps(1) infinite;\n",
              "  }\n",
              "\n",
              "  @keyframes spin {\n",
              "    0% {\n",
              "      border-color: transparent;\n",
              "      border-bottom-color: var(--fill-color);\n",
              "      border-left-color: var(--fill-color);\n",
              "    }\n",
              "    20% {\n",
              "      border-color: transparent;\n",
              "      border-left-color: var(--fill-color);\n",
              "      border-top-color: var(--fill-color);\n",
              "    }\n",
              "    30% {\n",
              "      border-color: transparent;\n",
              "      border-left-color: var(--fill-color);\n",
              "      border-top-color: var(--fill-color);\n",
              "      border-right-color: var(--fill-color);\n",
              "    }\n",
              "    40% {\n",
              "      border-color: transparent;\n",
              "      border-right-color: var(--fill-color);\n",
              "      border-top-color: var(--fill-color);\n",
              "    }\n",
              "    60% {\n",
              "      border-color: transparent;\n",
              "      border-right-color: var(--fill-color);\n",
              "    }\n",
              "    80% {\n",
              "      border-color: transparent;\n",
              "      border-right-color: var(--fill-color);\n",
              "      border-bottom-color: var(--fill-color);\n",
              "    }\n",
              "    90% {\n",
              "      border-color: transparent;\n",
              "      border-bottom-color: var(--fill-color);\n",
              "    }\n",
              "  }\n",
              "</style>\n",
              "\n",
              "  <script>\n",
              "    async function quickchart(key) {\n",
              "      const quickchartButtonEl =\n",
              "        document.querySelector('#' + key + ' button');\n",
              "      quickchartButtonEl.disabled = true;  // To prevent multiple clicks.\n",
              "      quickchartButtonEl.classList.add('colab-df-spinner');\n",
              "      try {\n",
              "        const charts = await google.colab.kernel.invokeFunction(\n",
              "            'suggestCharts', [key], {});\n",
              "      } catch (error) {\n",
              "        console.error('Error during call to suggestCharts:', error);\n",
              "      }\n",
              "      quickchartButtonEl.classList.remove('colab-df-spinner');\n",
              "      quickchartButtonEl.classList.add('colab-df-quickchart-complete');\n",
              "    }\n",
              "    (() => {\n",
              "      let quickchartButtonEl =\n",
              "        document.querySelector('#df-a0986954-afca-4ad3-b214-8f581a9d6ce3 button');\n",
              "      quickchartButtonEl.style.display =\n",
              "        google.colab.kernel.accessAllowed ? 'block' : 'none';\n",
              "    })();\n",
              "  </script>\n",
              "</div>\n",
              "\n",
              "    </div>\n",
              "  </div>\n"
            ],
            "application/vnd.google.colaboratory.intrinsic+json": {
              "type": "dataframe",
              "variable_name": "album_df",
              "summary": "{\n  \"name\": \"album_df\",\n  \"rows\": 50,\n  \"fields\": [\n    {\n      \"column\": \"id\",\n      \"properties\": {\n        \"dtype\": \"string\",\n        \"num_unique_values\": 46,\n        \"samples\": [\n          \"18NOKLkZETa4sWwLMIm0UZ\",\n          \"78bpIziExqiI9qztvNFlQu\",\n          \"5EYKrEDnKhhcNxGedaRQeK\"\n        ],\n        \"semantic_type\": \"\",\n        \"description\": \"\"\n      }\n    },\n    {\n      \"column\": \"name\",\n      \"properties\": {\n        \"dtype\": \"string\",\n        \"num_unique_values\": 46,\n        \"samples\": [\n          \"UTOPIA\",\n          \"AM\",\n          \"eternal sunshine\"\n        ],\n        \"semantic_type\": \"\",\n        \"description\": \"\"\n      }\n    },\n    {\n      \"column\": \"release_date\",\n      \"properties\": {\n        \"dtype\": \"string\",\n        \"num_unique_values\": 41,\n        \"samples\": [\n          \"2024-03-08\",\n          \"2024-07-09\",\n          \"2024-04-05\"\n        ],\n        \"semantic_type\": \"\",\n        \"description\": \"\"\n      }\n    },\n    {\n      \"column\": \"total_tracks\",\n      \"properties\": {\n        \"dtype\": \"number\",\n        \"std\": 6,\n        \"min\": 1,\n        \"max\": 24,\n        \"num_unique_values\": 15,\n        \"samples\": [\n          11,\n          13,\n          1\n        ],\n        \"semantic_type\": \"\",\n        \"description\": \"\"\n      }\n    },\n    {\n      \"column\": \"uri\",\n      \"properties\": {\n        \"dtype\": \"string\",\n        \"num_unique_values\": 46,\n        \"samples\": [\n          \"https://open.spotify.com/album/18NOKLkZETa4sWwLMIm0UZ\",\n          \"https://open.spotify.com/album/78bpIziExqiI9qztvNFlQu\",\n          \"https://open.spotify.com/album/5EYKrEDnKhhcNxGedaRQeK\"\n        ],\n        \"semantic_type\": \"\",\n        \"description\": \"\"\n      }\n    }\n  ]\n}"
            }
          },
          "metadata": {},
          "execution_count": 50
        }
      ]
    },
    {
      "cell_type": "code",
      "source": [
        "album_df.info()"
      ],
      "metadata": {
        "colab": {
          "base_uri": "https://localhost:8080/"
        },
        "id": "APgrC0YHBwdD",
        "outputId": "5339f5bd-a854-4151-b0ca-b91dd41a3f4d"
      },
      "execution_count": null,
      "outputs": [
        {
          "output_type": "stream",
          "name": "stdout",
          "text": [
            "<class 'pandas.core.frame.DataFrame'>\n",
            "RangeIndex: 50 entries, 0 to 49\n",
            "Data columns (total 5 columns):\n",
            " #   Column        Non-Null Count  Dtype \n",
            "---  ------        --------------  ----- \n",
            " 0   id            50 non-null     object\n",
            " 1   name          50 non-null     object\n",
            " 2   release_date  50 non-null     object\n",
            " 3   total_tracks  50 non-null     int64 \n",
            " 4   uri           50 non-null     object\n",
            "dtypes: int64(1), object(4)\n",
            "memory usage: 2.1+ KB\n"
          ]
        }
      ]
    },
    {
      "cell_type": "code",
      "source": [
        "artist_list = []\n",
        "for row in data['items']:\n",
        "  for key, value in row.items():\n",
        "    if key == 'track':\n",
        "      for artist in value['artists']:\n",
        "        artist_dict={'artist_id': artist['id'], 'artist_name': artist['name'], 'external_url': artist['href']}\n",
        "        artist_list.append(artist_dict)"
      ],
      "metadata": {
        "id": "xO-BcfWxCW6P"
      },
      "execution_count": null,
      "outputs": []
    },
    {
      "cell_type": "code",
      "source": [
        "song_list=[]\n",
        "for row in data['items']:\n",
        "  song_id = row['track']['id']\n",
        "  song_name = row['track']['name']\n",
        "  song_duration=row['track']['duration_ms']\n",
        "  song_url=row['track']['external_urls']['spotify']\n",
        "  song_popularity=row['track']['popularity']\n",
        "  song_added=row['added_at']\n",
        "  album_id=row['track']['album']['id']\n",
        "  artist_id=row['track']['album']['artists'][0]['id']\n",
        "  song_elements={'song_id': song_id, 'song_name': song_name, 'duration_ms':song_duration, 'url':song_url, 'popularity':song_popularity, 'song_added':song_added, 'album_id':album_id, 'artist_id': artist_id}\n",
        "  song_list.append(song_elements)"
      ],
      "metadata": {
        "id": "QccE9udpEZgO"
      },
      "execution_count": null,
      "outputs": []
    },
    {
      "cell_type": "code",
      "source": [
        "album_df = album_df.drop_duplicates(subset=['id'])"
      ],
      "metadata": {
        "id": "rEbDzn52GbuK"
      },
      "execution_count": null,
      "outputs": []
    },
    {
      "cell_type": "code",
      "source": [
        "artist_df=pd.DataFrame.from_dict(artist_list)\n",
        "artist_df = artist_df.drop_duplicates(subset=['artist_id'])"
      ],
      "metadata": {
        "id": "EqXoSM_KSJ8p"
      },
      "execution_count": null,
      "outputs": []
    },
    {
      "cell_type": "code",
      "source": [
        "artist_df=pd.DataFrame.from_dict(artist_list)\n",
        "artist_df = artist_df.drop_duplicates(subset=['artist_id'])"
      ],
      "metadata": {
        "id": "feA12EbKS0tZ"
      },
      "execution_count": null,
      "outputs": []
    },
    {
      "cell_type": "code",
      "source": [
        "album_df['release_date'] = pd.to_datetime(album_df['release_date'], format='%Y-%m-%d', errors='coerce')"
      ],
      "metadata": {
        "id": "qmmL3UYGTN8h"
      },
      "execution_count": null,
      "outputs": []
    },
    {
      "cell_type": "code",
      "source": [
        "album_df.info()"
      ],
      "metadata": {
        "colab": {
          "base_uri": "https://localhost:8080/"
        },
        "id": "E86B0MC4TTYM",
        "outputId": "05d117dd-4cfb-433d-b8fc-e9053eb55036"
      },
      "execution_count": null,
      "outputs": [
        {
          "output_type": "stream",
          "name": "stdout",
          "text": [
            "<class 'pandas.core.frame.DataFrame'>\n",
            "Index: 46 entries, 0 to 49\n",
            "Data columns (total 5 columns):\n",
            " #   Column        Non-Null Count  Dtype         \n",
            "---  ------        --------------  -----         \n",
            " 0   id            46 non-null     object        \n",
            " 1   name          46 non-null     object        \n",
            " 2   release_date  45 non-null     datetime64[ns]\n",
            " 3   total_tracks  46 non-null     int64         \n",
            " 4   uri           46 non-null     object        \n",
            "dtypes: datetime64[ns](1), int64(1), object(3)\n",
            "memory usage: 2.2+ KB\n"
          ]
        }
      ]
    },
    {
      "cell_type": "code",
      "source": [
        "song_df=pd.DataFrame.from_dict(song_list)\n",
        "song_df = song_df.drop_duplicates(subset=['song_id'])\n",
        "song_df['song_added'] = pd.to_datetime(song_df['song_added'])"
      ],
      "metadata": {
        "id": "ypPUgpX3TsRc"
      },
      "execution_count": null,
      "outputs": []
    },
    {
      "cell_type": "code",
      "source": [
        "song_df.info()"
      ],
      "metadata": {
        "colab": {
          "base_uri": "https://localhost:8080/"
        },
        "id": "gB8i3f0zUGbk",
        "outputId": "57368f71-828a-44e3-a7f6-38f2af217ab3"
      },
      "execution_count": null,
      "outputs": [
        {
          "output_type": "stream",
          "name": "stdout",
          "text": [
            "<class 'pandas.core.frame.DataFrame'>\n",
            "RangeIndex: 50 entries, 0 to 49\n",
            "Data columns (total 8 columns):\n",
            " #   Column       Non-Null Count  Dtype              \n",
            "---  ------       --------------  -----              \n",
            " 0   song_id      50 non-null     object             \n",
            " 1   song_name    50 non-null     object             \n",
            " 2   duration_ms  50 non-null     int64              \n",
            " 3   url          50 non-null     object             \n",
            " 4   popularity   50 non-null     int64              \n",
            " 5   song_added   50 non-null     datetime64[ns, UTC]\n",
            " 6   album_id     50 non-null     object             \n",
            " 7   artist_id    50 non-null     object             \n",
            "dtypes: datetime64[ns, UTC](1), int64(2), object(5)\n",
            "memory usage: 3.2+ KB\n"
          ]
        }
      ]
    },
    {
      "cell_type": "code",
      "source": [],
      "metadata": {
        "id": "ZXaYEiZFUsKq"
      },
      "execution_count": null,
      "outputs": []
    }
  ]
}